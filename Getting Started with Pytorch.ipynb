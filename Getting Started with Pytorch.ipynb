{
 "cells": [
  {
   "cell_type": "code",
   "execution_count": 4,
   "id": "75976ccc",
   "metadata": {
    "scrolled": false
   },
   "outputs": [
    {
     "name": "stdout",
     "output_type": "stream",
     "text": [
      "tensor([[0.8240, 0.7308, 0.9060],\n",
      "        [0.3892, 0.7141, 0.0361],\n",
      "        [0.6823, 0.6626, 0.6214],\n",
      "        [0.9763, 0.0857, 0.6406],\n",
      "        [0.2524, 0.8719, 0.2704]])\n"
     ]
    }
   ],
   "source": [
    "import torch\n",
    "from torch import nn\n",
    "from torch.utils.data import DataLoader\n",
    "from torchvision import datasets\n",
    "from torchvision.transforms import ToTensor\n",
    "x = torch.rand(5, 3)\n",
    "print(x)"
   ]
  },
  {
   "cell_type": "markdown",
   "id": "215c7c49",
   "metadata": {},
   "source": [
    "`Dataset` stores the samples and their corresponding labels, and `DataLoader` wraps an iterable around the Dataset."
   ]
  },
  {
   "cell_type": "code",
   "execution_count": 9,
   "id": "16613a36",
   "metadata": {
    "scrolled": true
   },
   "outputs": [],
   "source": [
    "# Download training data from open datasets.\n",
    "training_data = datasets.FashionMNIST(\n",
    "    root=\"data\",\n",
    "    train=True,\n",
    "    download=True,\n",
    "    transform=ToTensor(),\n",
    ")\n",
    "\n",
    "# Download test data from open datasets.\n",
    "test_data = datasets.FashionMNIST(\n",
    "    root=\"data\",\n",
    "    train=False,\n",
    "    download=True,\n",
    "    transform=ToTensor(),\n",
    ")"
   ]
  },
  {
   "cell_type": "code",
   "execution_count": 10,
   "id": "af0d2d9a",
   "metadata": {},
   "outputs": [
    {
     "data": {
      "text/plain": [
       "Dataset FashionMNIST\n",
       "    Number of datapoints: 60000\n",
       "    Split: train\n",
       "    Root Location: data\n",
       "    Transforms (if any): ToTensor()\n",
       "    Target Transforms (if any): None"
      ]
     },
     "execution_count": 10,
     "metadata": {},
     "output_type": "execute_result"
    }
   ],
   "source": [
    "training_data"
   ]
  },
  {
   "cell_type": "code",
   "execution_count": 11,
   "id": "6e4c6285",
   "metadata": {},
   "outputs": [
    {
     "name": "stdout",
     "output_type": "stream",
     "text": [
      "Shape of X [N, C, H, W]: torch.Size([64, 1, 28, 28])\n",
      "Shape of y: torch.Size([64]) torch.int64\n"
     ]
    }
   ],
   "source": [
    "batch_size = 64\n",
    "\n",
    "# Create data loaders.\n",
    "train_dataloader = DataLoader(training_data, batch_size=batch_size)\n",
    "test_dataloader = DataLoader(test_data, batch_size=batch_size)\n",
    "\n",
    "for X, y in test_dataloader:\n",
    "    print(f\"Shape of X [N, C, H, W]: {X.shape}\")\n",
    "    print(f\"Shape of y: {y.shape} {y.dtype}\")\n",
    "    break"
   ]
  },
  {
   "cell_type": "markdown",
   "id": "f3623e25",
   "metadata": {},
   "source": [
    "## Creating Models\n",
    "\n",
    "Create a class that inherits from `nn.Module`\n",
    "\n",
    "Define the layers of the network in the `__init__` function\n",
    "\n",
    "Specify how the data will be passed through in the `forward` function"
   ]
  },
  {
   "cell_type": "code",
   "execution_count": 17,
   "id": "4ed90042",
   "metadata": {},
   "outputs": [
    {
     "data": {
      "text/plain": [
       "False"
      ]
     },
     "execution_count": 17,
     "metadata": {},
     "output_type": "execute_result"
    }
   ],
   "source": [
    "torch.cuda.is_available()"
   ]
  },
  {
   "cell_type": "code",
   "execution_count": 23,
   "id": "4acf4947",
   "metadata": {},
   "outputs": [
    {
     "name": "stdout",
     "output_type": "stream",
     "text": [
      "Using cpu device\n"
     ]
    }
   ],
   "source": [
    "device = \"cuda\" if torch.cuda.is_available() else \"cpu\"\n",
    "print(f\"Using {device} device\")"
   ]
  },
  {
   "cell_type": "code",
   "execution_count": 27,
   "id": "9e19b9b8",
   "metadata": {},
   "outputs": [
    {
     "name": "stdout",
     "output_type": "stream",
     "text": [
      "NN(\n",
      "  (flatten): Flatten(start_dim=1, end_dim=-1)\n",
      "  (linear_relu_stack): Sequential(\n",
      "    (0): Linear(in_features=784, out_features=512, bias=True)\n",
      "    (1): ReLU()\n",
      "    (2): Linear(in_features=512, out_features=512, bias=True)\n",
      "    (3): ReLU()\n",
      "    (4): Linear(in_features=512, out_features=10, bias=True)\n",
      "  )\n",
      ")\n"
     ]
    }
   ],
   "source": [
    "class NN(nn.Module):\n",
    "    def __init__(self):\n",
    "        super(NN, self).__init__()\n",
    "        self.flatten = nn.Flatten()\n",
    "        self.linear_relu_stack = nn.Sequential(\n",
    "            nn.Linear(28 * 28, 512),\n",
    "            nn.ReLU(),\n",
    "            nn.Linear(512, 512),\n",
    "            nn.ReLU(),\n",
    "            nn.Linear(512, 10)\n",
    "        )\n",
    "    \n",
    "    def forward(self, x):\n",
    "        x = self.flatten(x)\n",
    "        logits = self.linear_relu_stack(x)\n",
    "        return logits\n",
    "    \n",
    "model = NN().to(device)\n",
    "print(model)"
   ]
  },
  {
   "cell_type": "markdown",
   "id": "4f842f55",
   "metadata": {},
   "source": [
    "## To train a model, we need a loss function and an optimizer."
   ]
  },
  {
   "cell_type": "code",
   "execution_count": 28,
   "id": "568322be",
   "metadata": {},
   "outputs": [],
   "source": [
    "loss_fn = nn.CrossEntropyLoss()\n",
    "optimizer = torch.optim.SGD(model.parameters(), lr=1e-3)"
   ]
  },
  {
   "cell_type": "markdown",
   "id": "fe6602bf",
   "metadata": {},
   "source": [
    "## Training & Test Functions"
   ]
  },
  {
   "cell_type": "code",
   "execution_count": 40,
   "id": "cf2bb73c",
   "metadata": {},
   "outputs": [
    {
     "name": "stdout",
     "output_type": "stream",
     "text": [
      "Epoch 1\n",
      "-------------------------------\n",
      "loss: 2.295959  [    0/60000]\n",
      "loss: 2.298337  [ 6400/60000]\n",
      "loss: 2.299662  [12800/60000]\n",
      "loss: 2.304685  [19200/60000]\n",
      "loss: 2.304182  [25600/60000]\n",
      "loss: 2.293063  [32000/60000]\n",
      "loss: 2.299480  [38400/60000]\n",
      "loss: 2.293299  [44800/60000]\n",
      "loss: 2.299343  [51200/60000]\n",
      "loss: 2.298716  [57600/60000]\n",
      "Test Error: \n",
      " Accuracy: 9.4%, Avg loss: 2.299095 \n",
      "\n",
      "Epoch 2\n",
      "-------------------------------\n",
      "loss: 2.295959  [    0/60000]\n",
      "loss: 2.298337  [ 6400/60000]\n",
      "loss: 2.299662  [12800/60000]\n",
      "loss: 2.304685  [19200/60000]\n",
      "loss: 2.304182  [25600/60000]\n",
      "loss: 2.293063  [32000/60000]\n",
      "loss: 2.299480  [38400/60000]\n",
      "loss: 2.293299  [44800/60000]\n",
      "loss: 2.299343  [51200/60000]\n",
      "loss: 2.298716  [57600/60000]\n",
      "Test Error: \n",
      " Accuracy: 9.4%, Avg loss: 2.299095 \n",
      "\n",
      "Epoch 3\n",
      "-------------------------------\n",
      "loss: 2.295959  [    0/60000]\n",
      "loss: 2.298337  [ 6400/60000]\n",
      "loss: 2.299662  [12800/60000]\n",
      "loss: 2.304685  [19200/60000]\n",
      "loss: 2.304182  [25600/60000]\n",
      "loss: 2.293063  [32000/60000]\n",
      "loss: 2.299480  [38400/60000]\n",
      "loss: 2.293299  [44800/60000]\n",
      "loss: 2.299343  [51200/60000]\n",
      "loss: 2.298716  [57600/60000]\n",
      "Test Error: \n",
      " Accuracy: 9.4%, Avg loss: 2.299095 \n",
      "\n",
      "Epoch 4\n",
      "-------------------------------\n",
      "loss: 2.295959  [    0/60000]\n",
      "loss: 2.298337  [ 6400/60000]\n",
      "loss: 2.299662  [12800/60000]\n",
      "loss: 2.304685  [19200/60000]\n",
      "loss: 2.304182  [25600/60000]\n",
      "loss: 2.293063  [32000/60000]\n",
      "loss: 2.299480  [38400/60000]\n",
      "loss: 2.293299  [44800/60000]\n",
      "loss: 2.299343  [51200/60000]\n",
      "loss: 2.298716  [57600/60000]\n",
      "Test Error: \n",
      " Accuracy: 9.4%, Avg loss: 2.299095 \n",
      "\n",
      "Epoch 5\n",
      "-------------------------------\n",
      "loss: 2.295959  [    0/60000]\n",
      "loss: 2.298337  [ 6400/60000]\n",
      "loss: 2.299662  [12800/60000]\n",
      "loss: 2.304685  [19200/60000]\n",
      "loss: 2.304182  [25600/60000]\n",
      "loss: 2.293063  [32000/60000]\n",
      "loss: 2.299480  [38400/60000]\n",
      "loss: 2.293299  [44800/60000]\n",
      "loss: 2.299343  [51200/60000]\n",
      "loss: 2.298716  [57600/60000]\n",
      "Test Error: \n",
      " Accuracy: 9.4%, Avg loss: 2.299095 \n",
      "\n",
      "Done!\n"
     ]
    }
   ],
   "source": [
    "def train(dataloader, model, loss_fn, optimizer):\n",
    "    size = len(dataloader.dataset)\n",
    "    model.train()\n",
    "    for batch, (X, y) in enumerate(dataloader):\n",
    "        X, y = X.to(device), y.to(device)\n",
    "\n",
    "        # Compute prediction error\n",
    "        pred = model(X)\n",
    "        loss = loss_fn(pred, y)\n",
    "\n",
    "        # Backpropagation\n",
    "        optimizer.zero_grad()\n",
    "        loss.backward()\n",
    "        optimizer.step()\n",
    "\n",
    "        if batch % 100 == 0:\n",
    "            loss, current = loss.item(), batch * len(X)\n",
    "            print(f\"loss: {loss:>7f}  [{current:>5d}/{size:>5d}]\")\n",
    "            \n",
    "def test(dataloader, model, loss_fn):\n",
    "    size = len(dataloader.dataset)\n",
    "    num_batches = len(dataloader)\n",
    "    model.eval()\n",
    "    test_loss, correct = 0, 0\n",
    "    with torch.no_grad():\n",
    "        for X, y in dataloader:\n",
    "            X, y = X.to(device), y.to(device)\n",
    "            pred = model(X)\n",
    "            test_loss += loss_fn(pred, y).item()\n",
    "            correct += (pred.argmax(1) == y).type(torch.float).sum().item()\n",
    "    test_loss /= num_batches\n",
    "    correct /= size\n",
    "    print(f\"Test Error: \\n Accuracy: {(100*correct):>0.1f}%, Avg loss: {test_loss:>8f} \\n\")\n",
    "    \n",
    "epochs = 5\n",
    "for t in range(epochs):\n",
    "    print(f\"Epoch {t+1}\\n-------------------------------\")\n",
    "    train(train_dataloader, model, loss_fn, optimizer)\n",
    "    test(test_dataloader, model, loss_fn)\n",
    "print(\"Done!\")"
   ]
  },
  {
   "cell_type": "code",
   "execution_count": null,
   "id": "83f874f8",
   "metadata": {},
   "outputs": [],
   "source": []
  }
 ],
 "metadata": {
  "kernelspec": {
   "display_name": "Python 3",
   "language": "python",
   "name": "python3"
  },
  "language_info": {
   "codemirror_mode": {
    "name": "ipython",
    "version": 3
   },
   "file_extension": ".py",
   "mimetype": "text/x-python",
   "name": "python",
   "nbconvert_exporter": "python",
   "pygments_lexer": "ipython3",
   "version": "3.8.8"
  }
 },
 "nbformat": 4,
 "nbformat_minor": 5
}
