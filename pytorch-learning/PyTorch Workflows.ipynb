{
 "cells": [
  {
   "cell_type": "code",
   "execution_count": 6,
   "id": "199f1853",
   "metadata": {},
   "outputs": [
    {
     "data": {
      "text/plain": [
       "'1.12.1'"
      ]
     },
     "execution_count": 6,
     "metadata": {},
     "output_type": "execute_result"
    }
   ],
   "source": [
    "import torch\n",
    "from torch import nn # building blocks for neural networks\n",
    "import matplotlib.pyplot as plt\n",
    "\n",
    "torch.__version__"
   ]
  },
  {
   "cell_type": "markdown",
   "id": "e2788027",
   "metadata": {},
   "source": [
    "## 1. Prepare & Load Data"
   ]
  },
  {
   "cell_type": "code",
   "execution_count": 19,
   "id": "4ec9c3e7",
   "metadata": {},
   "outputs": [],
   "source": [
    "# Create data\n",
    "X = torch.arange(0, 1, 0.02).unsqueeze(dim=1)\n",
    "y = .7 * X + .3\n",
    "\n",
    "# Split into train & test\n",
    "split = int(.8 * len(X))\n",
    "X_train, y_train = X[:split], y[:split]\n",
    "X_test, y_test = X[split:], y[split:]"
   ]
  },
  {
   "cell_type": "markdown",
   "id": "74eff2a7",
   "metadata": {},
   "source": [
    "## 2. Build Model"
   ]
  },
  {
   "cell_type": "code",
   "execution_count": 24,
   "id": "9c7c78e1",
   "metadata": {},
   "outputs": [],
   "source": [
    "class LinearRegressionNN(nn.Module):\n",
    "    def __init__(self):\n",
    "        super.__init__()\n",
    "        self.weights = nn.Parameter(torch.randn(1, \n",
    "                                               requires_grad=True,\n",
    "                                               dtype=torch.float))\n",
    "        self.bias = nn.Parameter(torch.randn(1, \n",
    "                                               requires_grad=True,\n",
    "                                               dtype=torch.float))\n",
    "        \n",
    "    def forward(self, x):\n",
    "        pass"
   ]
  },
  {
   "cell_type": "code",
   "execution_count": null,
   "id": "c38a16f7",
   "metadata": {},
   "outputs": [],
   "source": []
  }
 ],
 "metadata": {
  "kernelspec": {
   "display_name": "Python 3",
   "language": "python",
   "name": "python3"
  },
  "language_info": {
   "codemirror_mode": {
    "name": "ipython",
    "version": 3
   },
   "file_extension": ".py",
   "mimetype": "text/x-python",
   "name": "python",
   "nbconvert_exporter": "python",
   "pygments_lexer": "ipython3",
   "version": "3.8.8"
  }
 },
 "nbformat": 4,
 "nbformat_minor": 5
}
