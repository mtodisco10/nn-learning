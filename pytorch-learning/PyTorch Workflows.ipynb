{
 "cells": [
  {
   "cell_type": "code",
   "execution_count": 1,
   "id": "a7f90bf3",
   "metadata": {},
   "outputs": [],
   "source": [
    "import torch\n",
    "from torch import nn # building blocks for neural networks\n",
    "import matplotlib.pyplot as plt\n",
    "\n",
    "torch.__version__\n",
    "\n",
    "device = \"cuda\" if torch.cuda.is_available() else \"cpu\""
   ]
  },
  {
   "cell_type": "markdown",
   "id": "f0e0cc7a",
   "metadata": {},
   "source": [
    "## 1. Prepare & Load Data"
   ]
  },
  {
   "cell_type": "code",
   "execution_count": 2,
   "id": "fa56a037",
   "metadata": {},
   "outputs": [],
   "source": [
    "# Create linear data\n",
    "X = torch.arange(0, 1, 0.02).unsqueeze(dim=1)\n",
    "y = .7 * X + .3\n",
    "\n",
    "# Split into train & test\n",
    "split = int(.8 * len(X))\n",
    "X_train, y_train = X[:split], y[:split]\n",
    "X_test, y_test = X[split:], y[split:]"
   ]
  },
  {
   "cell_type": "markdown",
   "id": "3411260d",
   "metadata": {},
   "source": [
    "## 2. Build Model"
   ]
  },
  {
   "cell_type": "code",
   "execution_count": 3,
   "id": "5ca6ee2d",
   "metadata": {},
   "outputs": [],
   "source": [
    "# Create Linear Regression Model Class\n",
    "class LinearRegressionNN(nn.Module):\n",
    "    def __init__(self):\n",
    "        super().__init__()\n",
    "        self.weights = nn.Parameter(torch.randn(1, \n",
    "                                               requires_grad=True, #Can this be updated via gradient descent?\n",
    "                                               dtype=torch.float))\n",
    "        self.bias = nn.Parameter(torch.randn(1, \n",
    "                                               requires_grad=True,\n",
    "                                               dtype=torch.float))\n",
    "        \n",
    "    def forward(self, x):\n",
    "        return self.weights * x + self.bias"
   ]
  },
  {
   "cell_type": "code",
   "execution_count": 4,
   "id": "16210c1d",
   "metadata": {},
   "outputs": [
    {
     "name": "stdout",
     "output_type": "stream",
     "text": [
      "[Parameter containing:\n",
      "tensor([0.3367], requires_grad=True), Parameter containing:\n",
      "tensor([0.1288], requires_grad=True)]\n"
     ]
    },
    {
     "data": {
      "text/plain": [
       "device(type='cpu')"
      ]
     },
     "execution_count": 4,
     "metadata": {},
     "output_type": "execute_result"
    }
   ],
   "source": [
    "# Set seed for reproducibility\n",
    "torch.manual_seed(42)\n",
    "\n",
    "# Instantiate the model\n",
    "model = LinearRegressionNN()\n",
    "\n",
    "# Send model to gpu if available\n",
    "model.to(device)\n",
    "\n",
    "# Check model parameters and device\n",
    "print(list(model.parameters()))\n",
    "next(model.parameters()).device"
   ]
  },
  {
   "cell_type": "code",
   "execution_count": 5,
   "id": "2260fcc8",
   "metadata": {},
   "outputs": [
    {
     "data": {
      "text/plain": [
       "OrderedDict([('weights', tensor([0.3367])), ('bias', tensor([0.1288]))])"
      ]
     },
     "execution_count": 5,
     "metadata": {},
     "output_type": "execute_result"
    }
   ],
   "source": [
    "model.state_dict()"
   ]
  },
  {
   "cell_type": "markdown",
   "id": "2ab60ffa",
   "metadata": {},
   "source": [
    "## Training Loop"
   ]
  },
  {
   "cell_type": "code",
   "execution_count": 6,
   "id": "4089d146",
   "metadata": {},
   "outputs": [
    {
     "name": "stdout",
     "output_type": "stream",
     "text": [
      "Epoch: 0, train loss: 0.31288138031959534 test loss: 0.48106518387794495\n",
      "Epoch: 10, train loss: 0.1976713240146637 test loss: 0.3463551998138428\n",
      "Epoch: 20, train loss: 0.08908725529909134 test loss: 0.21729660034179688\n",
      "Epoch: 30, train loss: 0.053148526698350906 test loss: 0.14464017748832703\n",
      "Epoch: 40, train loss: 0.04543796554207802 test loss: 0.11360953003168106\n",
      "Epoch: 50, train loss: 0.04167863354086876 test loss: 0.09919948130846024\n",
      "Epoch: 60, train loss: 0.03818932920694351 test loss: 0.08886633068323135\n",
      "Epoch: 70, train loss: 0.03476089984178543 test loss: 0.0805937647819519\n",
      "Epoch: 80, train loss: 0.03132382780313492 test loss: 0.07232122868299484\n",
      "Epoch: 90, train loss: 0.02788739837706089 test loss: 0.06473556160926819\n"
     ]
    }
   ],
   "source": [
    "# Instantiate loss function\n",
    "loss_fn = nn.L1Loss()\n",
    "# Instantiate optimizer\n",
    "optim = torch.optim.SGD(params=model.parameters(), lr=0.01)\n",
    "\n",
    "# Loop through data\n",
    "epochs = 100\n",
    "for epoch in range(epochs):\n",
    "    model.train()\n",
    "    # Making predictions on training data\n",
    "    y_preds = model(X_train)\n",
    "    \n",
    "    # Calculate Training Loss\n",
    "    train_loss = loss_fn(y_preds, y_train)\n",
    "    \n",
    "    # Optimizer\n",
    "    optim.zero_grad()\n",
    "    \n",
    "    # Back Prop\n",
    "    train_loss.backward()\n",
    "    \n",
    "    optim.step()\n",
    "    \n",
    "    with torch.inference_mode():\n",
    "        y_test_preds = model(X_test)\n",
    "        if epoch % 10 == 0:\n",
    "            test_loss = loss_fn(y_test_preds, y_test)\n",
    "            print(f'Epoch: {epoch}, train loss: {train_loss} test loss: {test_loss}')\n",
    "    "
   ]
  },
  {
   "cell_type": "code",
   "execution_count": 7,
   "id": "d988a776",
   "metadata": {},
   "outputs": [
    {
     "data": {
      "text/plain": [
       "[Parameter containing:\n",
       " tensor([0.5784], requires_grad=True),\n",
       " Parameter containing:\n",
       " tensor([0.3513], requires_grad=True)]"
      ]
     },
     "execution_count": 7,
     "metadata": {},
     "output_type": "execute_result"
    }
   ],
   "source": [
    "list(model.parameters())"
   ]
  },
  {
   "cell_type": "markdown",
   "id": "c4b0535a",
   "metadata": {},
   "source": [
    "## Saving the model"
   ]
  },
  {
   "cell_type": "code",
   "execution_count": 8,
   "id": "d3b00b32",
   "metadata": {},
   "outputs": [
    {
     "name": "stdout",
     "output_type": "stream",
     "text": [
      "Saving model to: models/01_pytorch_workflow_model_1.pth\n"
     ]
    }
   ],
   "source": [
    "from pathlib import Path\n",
    "\n",
    "# 1. Create models directory \n",
    "MODEL_PATH = Path(\"models\")\n",
    "MODEL_PATH.mkdir(parents=True, exist_ok=True)\n",
    "\n",
    "# 2. Create model save path \n",
    "MODEL_NAME = \"01_pytorch_workflow_model_1.pth\"\n",
    "MODEL_SAVE_PATH = MODEL_PATH / MODEL_NAME\n",
    "\n",
    "# 3. Save the model state dict \n",
    "print(f\"Saving model to: {MODEL_SAVE_PATH}\")\n",
    "torch.save(obj=model.state_dict(), # only saving the state_dict() only saves the models learned parameters\n",
    "           f=MODEL_SAVE_PATH)"
   ]
  },
  {
   "cell_type": "markdown",
   "id": "b5c833f7",
   "metadata": {},
   "source": [
    "## Loading the model"
   ]
  },
  {
   "cell_type": "code",
   "execution_count": 10,
   "id": "dc00a754",
   "metadata": {},
   "outputs": [
    {
     "name": "stdout",
     "output_type": "stream",
     "text": [
      "Loaded model:\n",
      "LinearRegressionNN()\n",
      "Model on device:\n",
      "cpu\n"
     ]
    }
   ],
   "source": [
    "# Instantiate a fresh instance of LinearRegressionModelV2\n",
    "loaded_model = LinearRegressionNN()\n",
    "\n",
    "# Load model state dict \n",
    "loaded_model.load_state_dict(torch.load(MODEL_SAVE_PATH))\n",
    "\n",
    "# Put model to target device (if your data is on GPU, model will have to be on GPU to make predictions)\n",
    "loaded_model.to(device)\n",
    "\n",
    "print(f\"Loaded model:\\n{loaded_model}\")\n",
    "print(f\"Model on device:\\n{next(loaded_model.parameters()).device}\")"
   ]
  }
 ],
 "metadata": {
  "kernelspec": {
   "display_name": "Python 3",
   "language": "python",
   "name": "python3"
  },
  "language_info": {
   "codemirror_mode": {
    "name": "ipython",
    "version": 3
   },
   "file_extension": ".py",
   "mimetype": "text/x-python",
   "name": "python",
   "nbconvert_exporter": "python",
   "pygments_lexer": "ipython3",
   "version": "3.8.8"
  }
 },
 "nbformat": 4,
 "nbformat_minor": 5
}
