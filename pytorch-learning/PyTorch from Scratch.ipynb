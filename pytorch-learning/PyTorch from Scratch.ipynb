{
 "cells": [
  {
   "cell_type": "code",
   "execution_count": 8,
   "id": "bda3f875",
   "metadata": {},
   "outputs": [],
   "source": [
    "import torch\n",
    "from torch import nn\n",
    "from torchvision import datasets\n",
    "from torchvision.transforms import ToTensor\n",
    "from torch.utils.data import DataLoader\n",
    "from torchmetrics import Accuracy\n",
    "\n",
    "import pandas as pd\n",
    "import numpy as np\n",
    "\n",
    "device = \"cuda\" if torch.cuda.is_available() else \"cpu\""
   ]
  },
  {
   "cell_type": "code",
   "execution_count": 9,
   "id": "0cd22ad9",
   "metadata": {},
   "outputs": [
    {
     "name": "stdout",
     "output_type": "stream",
     "text": [
      "Files already downloaded and verified\n",
      "Files already downloaded and verified\n"
     ]
    }
   ],
   "source": [
    "train_data = datasets.CIFAR10(root='./data',\n",
    "                              train=True,\n",
    "                              transform=ToTensor(),\n",
    "                              download=True\n",
    "                            )\n",
    "\n",
    "test_data = datasets.CIFAR10(root='./data',\n",
    "                              train=False,\n",
    "                              transform=ToTensor(),\n",
    "                              download=True\n",
    "                            )"
   ]
  },
  {
   "cell_type": "code",
   "execution_count": 10,
   "id": "fcc52eb0",
   "metadata": {},
   "outputs": [],
   "source": [
    "BATCH_SIZE = 32\n",
    "\n",
    "train_dataloader = DataLoader(\n",
    "    dataset=train_data,\n",
    "    batch_size=BATCH_SIZE,\n",
    "    shuffle=True\n",
    ")\n",
    "\n",
    "test_dataloader = DataLoader(\n",
    "    dataset=test_data,\n",
    "    batch_size=BATCH_SIZE,\n",
    "    shuffle=True\n",
    ")"
   ]
  },
  {
   "cell_type": "code",
   "execution_count": 11,
   "id": "4fedd3a1",
   "metadata": {},
   "outputs": [
    {
     "data": {
      "text/plain": [
       "torch.Size([1, 3, 32, 32])"
      ]
     },
     "execution_count": 11,
     "metadata": {},
     "output_type": "execute_result"
    }
   ],
   "source": [
    "test_img = next(iter(train_dataloader))[0][0].unsqueeze(dim=0)\n",
    "test_img.shape"
   ]
  },
  {
   "cell_type": "code",
   "execution_count": 12,
   "id": "e3db95cd",
   "metadata": {},
   "outputs": [
    {
     "data": {
      "text/plain": [
       "tensor([[ 0.0147,  0.0697,  0.1066, -0.0854, -0.0079, -0.0232, -0.1109,  0.0856,\n",
       "          0.0056,  0.0190]], grad_fn=<AddmmBackward0>)"
      ]
     },
     "execution_count": 12,
     "metadata": {},
     "output_type": "execute_result"
    }
   ],
   "source": [
    "# Build the model\n",
    "\n",
    "class ScratchNetwork(nn.Module):\n",
    "    def __init__(self, input_channels, hidden_units, output_shape, kernel_size):\n",
    "        super().__init__()\n",
    "        self.block_1 = nn.Sequential(\n",
    "            nn.Conv2d(input_channels, hidden_units, kernel_size),\n",
    "            nn.ReLU(),\n",
    "            nn.MaxPool2d(2),\n",
    "        )\n",
    "        \n",
    "        self.block_2 = nn.Sequential(\n",
    "            nn.Conv2d(hidden_units, hidden_units, kernel_size),\n",
    "            nn.ReLU(),\n",
    "            nn.MaxPool2d(2),\n",
    "        )\n",
    "        \n",
    "        self.classifier = nn.Sequential(\n",
    "            nn.Flatten(),\n",
    "            nn.Linear(hidden_units*6*6, output_shape)\n",
    "        )\n",
    "        \n",
    "    def forward(self, x):\n",
    "        x = self.block_1(x)\n",
    "        x = self.block_2(x)\n",
    "        x = self.classifier(x)\n",
    "        return x\n",
    "    \n",
    "model = ScratchNetwork(3, 64, 10, 3)\n",
    "model(test_img)"
   ]
  },
  {
   "cell_type": "code",
   "execution_count": null,
   "id": "74ff954a",
   "metadata": {},
   "outputs": [],
   "source": [
    "from sklearn.metrics import accuracy_score\n",
    "\n",
    "optimizer = torch.optim.SGD(model.parameters(), lr=0.01)\n",
    "loss_fn = nn.CrossEntropyLoss()\n",
    "\n",
    "def train_step(model,\n",
    "               dataloader,\n",
    "               optimizer,\n",
    "               loss_fn,\n",
    "               device\n",
    "              ):\n",
    "    \n",
    "    model.train()\n",
    "    \n",
    "    train_loss, train_acc = 0, 0\n",
    "    \n",
    "    for batch, (X, y) in enumerate(dataloader):\n",
    "        \n",
    "        # forward pass\n",
    "        logits = model(X)\n",
    "        y_pred = torch.softmax(logits, dim=1).argmax(dim=1)\n",
    "        \n",
    "        # calculate loss\n",
    "        loss = loss_fn(logits, y)\n",
    "        acc = accuracy_score(y_pred, y)\n",
    "        train_loss += loss.item()\n",
    "        train_acc += acc\n",
    "        \n",
    "        # zero Grad\n",
    "        optimizer.zero_grad()\n",
    "        \n",
    "        loss.backward()\n",
    "        \n",
    "        optimizer.step()\n",
    "        \n",
    "    train_loss = train_loss / len(dataloader) \n",
    "    train_acc = train_acc / len(dataloader)\n",
    "    \n",
    "    return train_loss, train_acc\n",
    "        \n",
    "def test_step(model,\n",
    "              dataloader,\n",
    "              optimizer,\n",
    "              loss_fn,\n",
    "              device\n",
    "             ):\n",
    "    \n",
    "    model.eval()\n",
    "    \n",
    "    test_loss, test_acc = 0, 0\n",
    "    \n",
    "    with torch.inference_mode():\n",
    "        \n",
    "        for batch, (X, y) in enumerate(dataloader):\n",
    "            \n",
    "            logits = model(X)\n",
    "            y_pred = torch.softmax(logits, dim=1).argmax(dim=1)\n",
    "            \n",
    "            loss = loss_fn(logits, y)\n",
    "            acc = accuracy_score(y_pred, y)\n",
    "            \n",
    "            test_loss += loss.item()\n",
    "            test_acc += acc\n",
    "            \n",
    "        test_loss = test_loss / len(dataloader)\n",
    "        test_acc = test_acc / len(dataloader)\n",
    "        \n",
    "        return test_loss, test_acc\n",
    "    "
   ]
  },
  {
   "cell_type": "code",
   "execution_count": null,
   "id": "786807a2",
   "metadata": {},
   "outputs": [],
   "source": [
    "def train(model,\n",
    "          train_dataloader,\n",
    "          test_dataloader,\n",
    "          optimizer,\n",
    "          loss_fn,\n",
    "          device,\n",
    "          epochs\n",
    "         ):\n",
    "    \n",
    "    for epoch in range(epochs):\n",
    "        train_loss, train_acc = train_step(model, train_dataloader, optimizer, loss_fn, device)\n",
    "        test_loss, test_acc = test_step(model, test_dataloader, optimizer, loss_fn, device)\n",
    "        \n",
    "        if epoch % 5 == 0:\n",
    "            print(\n",
    "                f'epoch {epoch} |'\n",
    "                f'train loss: {train_loss:.4f} | train acc: {test_acc:.4f} |'\n",
    "                f'test loss: {test_loss:.4f} | test acc: {test_acc:.4f}'\n",
    "                 )"
   ]
  },
  {
   "cell_type": "code",
   "execution_count": null,
   "id": "7858c629",
   "metadata": {},
   "outputs": [],
   "source": [
    "train(model, train_dataloader, test_dataloader, optimizer, loss_fn, device, epochs=25)"
   ]
  },
  {
   "cell_type": "markdown",
   "id": "1d635d18",
   "metadata": {},
   "source": [
    "## Transfer Learning"
   ]
  },
  {
   "cell_type": "code",
   "execution_count": 13,
   "id": "f32702af",
   "metadata": {},
   "outputs": [],
   "source": [
    "from torchvision import models"
   ]
  },
  {
   "cell_type": "code",
   "execution_count": 15,
   "id": "fb419327",
   "metadata": {},
   "outputs": [],
   "source": [
    "weights = models.EfficientNet_B0_Weights.DEFAULT\n",
    "auto_transforms = weights.transforms()\n",
    "model = torchvision.models.efficientnet_b0(weights=weights).to(device)"
   ]
  },
  {
   "cell_type": "code",
   "execution_count": 17,
   "id": "2b60a8e1",
   "metadata": {},
   "outputs": [],
   "source": [
    "# Freeze all base layers in the \"features\" section of the model (the feature extractor) by setting requires_grad=False\n",
    "for param in model.features.parameters():\n",
    "    param.requires_grad = False"
   ]
  },
  {
   "cell_type": "code",
   "execution_count": null,
   "id": "dcaf3bc0",
   "metadata": {},
   "outputs": [],
   "source": []
  }
 ],
 "metadata": {
  "kernelspec": {
   "display_name": "Python 3",
   "language": "python",
   "name": "python3"
  },
  "language_info": {
   "codemirror_mode": {
    "name": "ipython",
    "version": 3
   },
   "file_extension": ".py",
   "mimetype": "text/x-python",
   "name": "python",
   "nbconvert_exporter": "python",
   "pygments_lexer": "ipython3",
   "version": "3.8.8"
  }
 },
 "nbformat": 4,
 "nbformat_minor": 5
}
