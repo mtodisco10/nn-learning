{
 "cells": [
  {
   "cell_type": "code",
   "execution_count": 106,
   "id": "7a63875b",
   "metadata": {},
   "outputs": [],
   "source": [
    "import torch\n",
    "from torch import nn\n",
    "from torchvision import datasets\n",
    "from torchvision.transforms import ToTensor\n",
    "from torch.utils.data import DataLoader\n",
    "from torchmetrics import Accuracy\n",
    "\n",
    "import pandas as pd\n",
    "import numpy as np\n",
    "\n",
    "device = \"cuda\" if torch.cuda.is_available() else \"cpu\""
   ]
  },
  {
   "cell_type": "code",
   "execution_count": 107,
   "id": "c9b39850",
   "metadata": {},
   "outputs": [
    {
     "name": "stdout",
     "output_type": "stream",
     "text": [
      "Files already downloaded and verified\n",
      "Files already downloaded and verified\n"
     ]
    }
   ],
   "source": [
    "train_data = datasets.CIFAR10(root='./data',\n",
    "                              train=True,\n",
    "                              transform=ToTensor(),\n",
    "                              download=True\n",
    "                            )\n",
    "\n",
    "test_data = datasets.CIFAR10(root='./data',\n",
    "                              train=False,\n",
    "                              transform=ToTensor(),\n",
    "                              download=True\n",
    "                            )"
   ]
  },
  {
   "cell_type": "code",
   "execution_count": 108,
   "id": "ac34bf82",
   "metadata": {},
   "outputs": [],
   "source": [
    "BATCH_SIZE = 32\n",
    "\n",
    "train_dataloader = DataLoader(\n",
    "    dataset=train_data,\n",
    "    batch_size=BATCH_SIZE,\n",
    "    shuffle=True\n",
    ")\n",
    "\n",
    "test_dataloader = DataLoader(\n",
    "    dataset=test_data,\n",
    "    batch_size=BATCH_SIZE,\n",
    "    shuffle=True\n",
    ")"
   ]
  },
  {
   "cell_type": "code",
   "execution_count": 109,
   "id": "26c25379",
   "metadata": {},
   "outputs": [
    {
     "data": {
      "text/plain": [
       "torch.Size([1, 3, 32, 32])"
      ]
     },
     "execution_count": 109,
     "metadata": {},
     "output_type": "execute_result"
    }
   ],
   "source": [
    "test_img = next(iter(train_dataloader))[0][0].unsqueeze(dim=0)\n",
    "test_img.shape"
   ]
  },
  {
   "cell_type": "code",
   "execution_count": 112,
   "id": "acae57c8",
   "metadata": {},
   "outputs": [],
   "source": [
    "# Build the model\n",
    "\n",
    "class ScratchNetwork(nn.Module):\n",
    "    def __init__(self, input_channels, hidden_units, output_shape, kernel_size):\n",
    "        super().__init__()\n",
    "        self.block_1 = nn.Sequential(\n",
    "            nn.Conv2d(input_channels, hidden_units, kernel_size),\n",
    "            nn.ReLU(),\n",
    "            nn.MaxPool2d(2),\n",
    "        )\n",
    "        \n",
    "        self.block_2 = nn.Sequential(\n",
    "            nn.Conv2d(hidden_units, hidden_units, kernel_size),\n",
    "            nn.ReLU(),\n",
    "            nn.MaxPool2d(2),\n",
    "        )\n",
    "        \n",
    "        self.classifier = nn.Sequential(\n",
    "            nn.Flatten(),\n",
    "            nn.Linear(hidden_units*6*6, output_shape)\n",
    "        )\n",
    "        \n",
    "    def forward(self, x):\n",
    "        x = self.block_1(x)\n",
    "        x = self.block_2(x)\n",
    "        x = self.classifier(x)\n",
    "        return x\n",
    "    \n",
    "model = ScratchNetwork(3, 64, 10, 3)"
   ]
  },
  {
   "cell_type": "code",
   "execution_count": 113,
   "id": "cba75250",
   "metadata": {},
   "outputs": [
    {
     "data": {
      "text/plain": [
       "tensor([[ 0.0225, -0.0258, -0.0464,  0.0566, -0.0278, -0.0526, -0.0543, -0.1302,\n",
       "          0.0007, -0.1489]], grad_fn=<AddmmBackward0>)"
      ]
     },
     "execution_count": 113,
     "metadata": {},
     "output_type": "execute_result"
    }
   ],
   "source": [
    "model(test_img)"
   ]
  },
  {
   "cell_type": "code",
   "execution_count": 117,
   "id": "c5c38714",
   "metadata": {},
   "outputs": [],
   "source": [
    "optimizer = torch.optim.SGD(model.parameters(), lr=0.01)\n",
    "loss_fn = nn.CrossEntropyLoss()"
   ]
  },
  {
   "cell_type": "code",
   "execution_count": 139,
   "id": "46b98af9",
   "metadata": {},
   "outputs": [],
   "source": [
    "from sklearn.metrics import accuracy_score\n",
    "\n",
    "def train_step(model,\n",
    "               dataloader,\n",
    "               optimizer,\n",
    "               loss_fn,\n",
    "               device\n",
    "              ):\n",
    "    \n",
    "    model.train()\n",
    "    \n",
    "    train_loss, train_acc = 0, 0\n",
    "    \n",
    "    for batch, (X, y) in enumerate(dataloader):\n",
    "        \n",
    "        # forward pass\n",
    "        logits = model(X)\n",
    "        y_pred = torch.softmax(logits, dim=1).argmax(dim=1)\n",
    "        \n",
    "        # calculate loss\n",
    "        loss = loss_fn(logits, y)\n",
    "        acc = accuracy_score(y_pred, y)\n",
    "        train_loss += loss.item()\n",
    "        train_acc += acc\n",
    "        \n",
    "        # zero Grad\n",
    "        optimizer.zero_grad()\n",
    "        \n",
    "        loss.backward()\n",
    "        \n",
    "        optimizer.step()\n",
    "        \n",
    "    train_loss = train_loss / len(dataloader) \n",
    "    train_acc = train_acc / len(dataloader)\n",
    "    \n",
    "    return train_loss, train_acc\n",
    "        \n",
    "def test_step(model,\n",
    "              dataloader,\n",
    "              optimizer,\n",
    "              loss_fn,\n",
    "              device\n",
    "             ):\n",
    "    \n",
    "    model.eval()\n",
    "    \n",
    "    test_loss, test_acc = 0, 0\n",
    "    \n",
    "    with torch.inference_mode():\n",
    "        \n",
    "        for batch, (X, y) in enumerate(dataloader):\n",
    "            \n",
    "            logits = model(X)\n",
    "            y_pred = torch.softmax(logits, dim=1).argmax(dim=1)\n",
    "            \n",
    "            loss = loss_fn(logits, y)\n",
    "            acc = accuracy_score(y_pred, y)\n",
    "            \n",
    "            test_loss += loss.item()\n",
    "            test_acc += acc\n",
    "            \n",
    "        test_loss = test_loss / len(dataloader)\n",
    "        test_acc = test_acc / len(dataloader)\n",
    "        \n",
    "        return test_loss, test_acc\n",
    "    "
   ]
  },
  {
   "cell_type": "code",
   "execution_count": 140,
   "id": "8b83ecf3",
   "metadata": {},
   "outputs": [
    {
     "data": {
      "text/plain": [
       "(1.4354474426688708, 0.4925023992322457)"
      ]
     },
     "execution_count": 140,
     "metadata": {},
     "output_type": "execute_result"
    }
   ],
   "source": [
    "train_step(model, train_dataloader, optimizer, loss_fn, device)"
   ]
  },
  {
   "cell_type": "code",
   "execution_count": 141,
   "id": "a1c7b3da",
   "metadata": {},
   "outputs": [
    {
     "data": {
      "text/plain": [
       "(1.478673025822868, 0.47623801916932906)"
      ]
     },
     "execution_count": 141,
     "metadata": {},
     "output_type": "execute_result"
    }
   ],
   "source": [
    "test_step(model, test_dataloader, optimizer, loss_fn, device)"
   ]
  },
  {
   "cell_type": "code",
   "execution_count": null,
   "id": "8e547f6f",
   "metadata": {},
   "outputs": [],
   "source": []
  }
 ],
 "metadata": {
  "kernelspec": {
   "display_name": "Python 3",
   "language": "python",
   "name": "python3"
  },
  "language_info": {
   "codemirror_mode": {
    "name": "ipython",
    "version": 3
   },
   "file_extension": ".py",
   "mimetype": "text/x-python",
   "name": "python",
   "nbconvert_exporter": "python",
   "pygments_lexer": "ipython3",
   "version": "3.8.8"
  }
 },
 "nbformat": 4,
 "nbformat_minor": 5
}
