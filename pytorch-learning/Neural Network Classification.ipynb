{
 "cells": [
  {
   "cell_type": "code",
   "execution_count": 1,
   "id": "fc5139ad",
   "metadata": {},
   "outputs": [],
   "source": [
    "import torch\n",
    "from torch import nn\n",
    "\n",
    "import pandas as pd\n",
    "from sklearn.model_selection import train_test_split\n",
    "\n",
    "device = \"cuda\" if torch.cuda.is_available() else \"cpu\""
   ]
  },
  {
   "cell_type": "code",
   "execution_count": 2,
   "id": "ed9b7207",
   "metadata": {},
   "outputs": [],
   "source": [
    "from sklearn.datasets import make_circles\n",
    "\n",
    "\n",
    "# Make 1000 samples \n",
    "n_samples = 1000\n",
    "\n",
    "# Create circles\n",
    "X, y = make_circles(n_samples,\n",
    "                    noise=0.03, # a little bit of noise to the dots\n",
    "                    random_state=42) # keep random state so we get the same values\n",
    "\n",
    "X = torch.from_numpy(X).type(torch.float)\n",
    "y = torch.from_numpy(y).type(torch.float)"
   ]
  },
  {
   "cell_type": "code",
   "execution_count": 40,
   "id": "b82c133d",
   "metadata": {},
   "outputs": [
    {
     "name": "stdout",
     "output_type": "stream",
     "text": [
      "test loss: 0.6907749772071838, test acc: 0.516\n",
      "test loss: 0.6887218356132507, test acc: 0.556\n",
      "test loss: 0.6858190298080444, test acc: 0.58\n",
      "test loss: 0.6819847822189331, test acc: 0.568\n",
      "test loss: 0.6766068339347839, test acc: 0.572\n",
      "test loss: 0.668337881565094, test acc: 0.58\n",
      "test loss: 0.655248761177063, test acc: 0.652\n",
      "test loss: 0.6331680417060852, test acc: 0.74\n",
      "test loss: 0.5904598832130432, test acc: 0.824\n",
      "test loss: 0.5181279182434082, test acc: 0.952\n",
      "test loss: 0.4095374643802643, test acc: 0.984\n",
      "test loss: 0.2861171066761017, test acc: 1.0\n",
      "test loss: 0.19242051243782043, test acc: 1.0\n",
      "test loss: 0.13653047382831573, test acc: 1.0\n",
      "test loss: 0.10375943779945374, test acc: 1.0\n",
      "test loss: 0.08339163661003113, test acc: 1.0\n",
      "test loss: 0.0698368027806282, test acc: 1.0\n",
      "test loss: 0.060230229049921036, test acc: 1.0\n",
      "test loss: 0.053121186792850494, test acc: 1.0\n",
      "test loss: 0.04767268896102905, test acc: 1.0\n"
     ]
    }
   ],
   "source": [
    "class BinaryClassifier(nn.Module):\n",
    "    def __init__(self):\n",
    "        super().__init__()\n",
    "        self.linear_relu_stack = nn.Sequential(\n",
    "            nn.Linear(2, 10),\n",
    "            nn.ReLU(),\n",
    "            nn.Linear(10, 10),\n",
    "            nn.Linear(10, 1),\n",
    "            \n",
    "        )\n",
    "        \n",
    "    def forward(self, x):\n",
    "        return self.linear_relu_stack(x)\n",
    "    \n",
    "model = BinaryClassifier().to(device)\n",
    "\n",
    "loss_fn = nn.BCEWithLogitsLoss()\n",
    "optim = torch.optim.SGD(params=model.parameters(), lr=0.1)\n",
    "\n",
    "X_train, X_test, y_train, y_test = train_test_split(X, y)\n",
    "\n",
    "torch.manual_seed(42)\n",
    "epochs = 2000\n",
    "for epoch in range(epochs):\n",
    "    model.train()\n",
    "    \n",
    "    # Forward Pass\n",
    "    y_train_logits = model(X_train).squeeze()\n",
    "    y_train_preds = torch.round(torch.sigmoid(y_train_logits))\n",
    "    \n",
    "    # Calculate loss\n",
    "    train_loss = loss_fn(y_train_logits, y_train)\n",
    "    \n",
    "    optim.zero_grad()\n",
    "    \n",
    "    train_loss.backward()\n",
    "    \n",
    "    optim.step()\n",
    "    \n",
    "    model.eval()\n",
    "    with torch.inference_mode():\n",
    "        y_test_logits = model(X_test).squeeze()\n",
    "        y_test_preds = torch.round(torch.sigmoid(y_test_logits))\n",
    "        test_loss = loss_fn(y_test_logits, y_test)\n",
    "        test_acc = accuracy_score(y_test_preds, y_test)\n",
    "        \n",
    "    if epoch % 100 == 0:\n",
    "        print(f'test loss: {test_loss}, test acc: {test_acc}')"
   ]
  }
 ],
 "metadata": {
  "kernelspec": {
   "display_name": "Python 3",
   "language": "python",
   "name": "python3"
  },
  "language_info": {
   "codemirror_mode": {
    "name": "ipython",
    "version": 3
   },
   "file_extension": ".py",
   "mimetype": "text/x-python",
   "name": "python",
   "nbconvert_exporter": "python",
   "pygments_lexer": "ipython3",
   "version": "3.8.8"
  }
 },
 "nbformat": 4,
 "nbformat_minor": 5
}
