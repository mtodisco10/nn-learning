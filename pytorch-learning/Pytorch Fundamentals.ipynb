{
 "cells": [
  {
   "cell_type": "code",
   "execution_count": 1,
   "id": "a1c746a5",
   "metadata": {},
   "outputs": [],
   "source": [
    "import torch"
   ]
  },
  {
   "cell_type": "markdown",
   "id": "bf07ff14",
   "metadata": {},
   "source": [
    "## Introduction to Tensors"
   ]
  },
  {
   "cell_type": "code",
   "execution_count": 4,
   "id": "0e9dd3d0",
   "metadata": {},
   "outputs": [
    {
     "data": {
      "text/plain": [
       "tensor(7)"
      ]
     },
     "execution_count": 4,
     "metadata": {},
     "output_type": "execute_result"
    }
   ],
   "source": [
    "scalar = torch.tensor(7)\n",
    "scalar"
   ]
  },
  {
   "cell_type": "code",
   "execution_count": 5,
   "id": "17549942",
   "metadata": {},
   "outputs": [
    {
     "data": {
      "text/plain": [
       "0"
      ]
     },
     "execution_count": 5,
     "metadata": {},
     "output_type": "execute_result"
    }
   ],
   "source": [
    "scalar.ndim"
   ]
  },
  {
   "cell_type": "code",
   "execution_count": 8,
   "id": "272473ab",
   "metadata": {},
   "outputs": [
    {
     "data": {
      "text/plain": [
       "tensor([7, 7])"
      ]
     },
     "execution_count": 8,
     "metadata": {},
     "output_type": "execute_result"
    }
   ],
   "source": [
    "vector = torch.tensor([7, 7])\n",
    "vector"
   ]
  },
  {
   "cell_type": "code",
   "execution_count": 11,
   "id": "1b6dfd33",
   "metadata": {},
   "outputs": [
    {
     "data": {
      "text/plain": [
       "1"
      ]
     },
     "execution_count": 11,
     "metadata": {},
     "output_type": "execute_result"
    }
   ],
   "source": [
    "vector.ndim"
   ]
  },
  {
   "cell_type": "code",
   "execution_count": 14,
   "id": "f599f2da",
   "metadata": {},
   "outputs": [],
   "source": [
    "MATRIX = torch.tensor([[7, 8],\n",
    "             [9, 10]])"
   ]
  },
  {
   "cell_type": "code",
   "execution_count": 15,
   "id": "59645c36",
   "metadata": {},
   "outputs": [
    {
     "data": {
      "text/plain": [
       "2"
      ]
     },
     "execution_count": 15,
     "metadata": {},
     "output_type": "execute_result"
    }
   ],
   "source": [
    "MATRIX.ndim"
   ]
  },
  {
   "cell_type": "code",
   "execution_count": 16,
   "id": "4df6b6b1",
   "metadata": {},
   "outputs": [
    {
     "data": {
      "text/plain": [
       "torch.Size([2, 2])"
      ]
     },
     "execution_count": 16,
     "metadata": {},
     "output_type": "execute_result"
    }
   ],
   "source": [
    "MATRIX.shape"
   ]
  },
  {
   "cell_type": "code",
   "execution_count": 20,
   "id": "0ad06ff4",
   "metadata": {},
   "outputs": [
    {
     "data": {
      "text/plain": [
       "tensor([[[1, 2, 3],\n",
       "         [4, 5, 6],\n",
       "         [7, 8, 9]]])"
      ]
     },
     "execution_count": 20,
     "metadata": {},
     "output_type": "execute_result"
    }
   ],
   "source": [
    "TENSOR = torch.tensor([[[1, 2, 3],\n",
    "                      [4, 5, 6],\n",
    "                      [7, 8, 9]]]\n",
    "                     )\n",
    "\n",
    "TENSOR"
   ]
  },
  {
   "cell_type": "code",
   "execution_count": 21,
   "id": "4b8a20b6",
   "metadata": {},
   "outputs": [
    {
     "data": {
      "text/plain": [
       "3"
      ]
     },
     "execution_count": 21,
     "metadata": {},
     "output_type": "execute_result"
    }
   ],
   "source": [
    "TENSOR.ndim"
   ]
  },
  {
   "cell_type": "code",
   "execution_count": 22,
   "id": "ccfbf1d3",
   "metadata": {},
   "outputs": [
    {
     "data": {
      "text/plain": [
       "torch.Size([1, 3, 3])"
      ]
     },
     "execution_count": 22,
     "metadata": {},
     "output_type": "execute_result"
    }
   ],
   "source": [
    "TENSOR.shape"
   ]
  },
  {
   "cell_type": "code",
   "execution_count": 26,
   "id": "8138b638",
   "metadata": {},
   "outputs": [
    {
     "data": {
      "text/plain": [
       "tensor([[1, 2, 3],\n",
       "        [4, 5, 6],\n",
       "        [7, 8, 9]])"
      ]
     },
     "execution_count": 26,
     "metadata": {},
     "output_type": "execute_result"
    }
   ],
   "source": [
    "TENSOR[0]"
   ]
  },
  {
   "cell_type": "markdown",
   "id": "eab4a1e7",
   "metadata": {},
   "source": [
    "### Random Tensors\n",
    "\n",
    "`Start with random numbers -> look at data -> update random numbers -> look at data -> repeat`"
   ]
  },
  {
   "cell_type": "code",
   "execution_count": 35,
   "id": "a6485797",
   "metadata": {},
   "outputs": [
    {
     "data": {
      "text/plain": [
       "tensor([[0.6512, 0.5977, 0.0407, 0.2668],\n",
       "        [0.8115, 0.6612, 0.6489, 0.3218],\n",
       "        [0.7748, 0.0686, 0.3602, 0.3010]])"
      ]
     },
     "execution_count": 35,
     "metadata": {},
     "output_type": "execute_result"
    }
   ],
   "source": [
    "random_tensor = torch.rand(3, 4)\n",
    "random_tensor"
   ]
  },
  {
   "cell_type": "code",
   "execution_count": 42,
   "id": "cd59caa9",
   "metadata": {},
   "outputs": [
    {
     "data": {
      "text/plain": [
       "3"
      ]
     },
     "execution_count": 42,
     "metadata": {},
     "output_type": "execute_result"
    }
   ],
   "source": [
    "rand_img_size_tensor = torch.rand(224, 224, 3) # height, width, color channels\n",
    "rand_img_size_tensor.ndim"
   ]
  },
  {
   "cell_type": "markdown",
   "id": "343942f0",
   "metadata": {},
   "source": [
    "### Zeroes and Ones"
   ]
  },
  {
   "cell_type": "code",
   "execution_count": 43,
   "id": "27532e17",
   "metadata": {},
   "outputs": [
    {
     "data": {
      "text/plain": [
       "tensor([[0., 0., 0., 0.],\n",
       "        [0., 0., 0., 0.],\n",
       "        [0., 0., 0., 0.]])"
      ]
     },
     "execution_count": 43,
     "metadata": {},
     "output_type": "execute_result"
    }
   ],
   "source": [
    "zero = torch.zeros(3, 4)\n",
    "zero"
   ]
  },
  {
   "cell_type": "code",
   "execution_count": 45,
   "id": "ae9f3cdb",
   "metadata": {},
   "outputs": [
    {
     "data": {
      "text/plain": [
       "tensor([[1., 1., 1.],\n",
       "        [1., 1., 1.]])"
      ]
     },
     "execution_count": 45,
     "metadata": {},
     "output_type": "execute_result"
    }
   ],
   "source": [
    "one = torch.ones(2, 3)\n",
    "one"
   ]
  },
  {
   "cell_type": "code",
   "execution_count": 48,
   "id": "e25e98e9",
   "metadata": {},
   "outputs": [
    {
     "data": {
      "text/plain": [
       "torch.float32"
      ]
     },
     "execution_count": 48,
     "metadata": {},
     "output_type": "execute_result"
    }
   ],
   "source": [
    "zero.dtype"
   ]
  },
  {
   "cell_type": "markdown",
   "id": "35636b59",
   "metadata": {},
   "source": [
    "## Ranges"
   ]
  },
  {
   "cell_type": "code",
   "execution_count": 58,
   "id": "c1f7d544",
   "metadata": {},
   "outputs": [
    {
     "data": {
      "text/plain": [
       "tensor([ 1,  2,  3,  4,  5,  6,  7,  8,  9, 10])"
      ]
     },
     "execution_count": 58,
     "metadata": {},
     "output_type": "execute_result"
    }
   ],
   "source": [
    "one_to_ten = torch.arange(1, 11)\n",
    "one_to_ten"
   ]
  },
  {
   "cell_type": "code",
   "execution_count": 59,
   "id": "76f04034",
   "metadata": {},
   "outputs": [
    {
     "data": {
      "text/plain": [
       "tensor([0, 0, 0, 0, 0, 0, 0, 0, 0, 0])"
      ]
     },
     "execution_count": 59,
     "metadata": {},
     "output_type": "execute_result"
    }
   ],
   "source": [
    "ten_zeroes = torch.zeros_like(one_to_ten)\n",
    "ten_zeroes"
   ]
  },
  {
   "cell_type": "markdown",
   "id": "035a1c45",
   "metadata": {},
   "source": [
    "## Tensor Datatypes"
   ]
  },
  {
   "cell_type": "code",
   "execution_count": 64,
   "id": "4c855cce",
   "metadata": {},
   "outputs": [
    {
     "data": {
      "text/plain": [
       "torch.float32"
      ]
     },
     "execution_count": 64,
     "metadata": {},
     "output_type": "execute_result"
    }
   ],
   "source": [
    "float_tensor = torch.tensor([3., 6, 9])\n",
    "float_tensor.dtype"
   ]
  },
  {
   "cell_type": "code",
   "execution_count": 65,
   "id": "6ba9096b",
   "metadata": {},
   "outputs": [],
   "source": [
    "float_16_tensor = float_tensor.type(torch.float16)"
   ]
  },
  {
   "cell_type": "code",
   "execution_count": 70,
   "id": "42e3b78f",
   "metadata": {},
   "outputs": [
    {
     "data": {
      "text/plain": [
       "tensor([ 9., 36., 81.])"
      ]
     },
     "execution_count": 70,
     "metadata": {},
     "output_type": "execute_result"
    }
   ],
   "source": [
    "float_tensor * float_16_tensor"
   ]
  },
  {
   "cell_type": "markdown",
   "id": "323704b9",
   "metadata": {},
   "source": [
    "## Manipulating Tensors"
   ]
  },
  {
   "cell_type": "code",
   "execution_count": 76,
   "id": "9a4ed2e1",
   "metadata": {},
   "outputs": [
    {
     "data": {
      "text/plain": [
       "tensor([11, 12, 13])"
      ]
     },
     "execution_count": 76,
     "metadata": {},
     "output_type": "execute_result"
    }
   ],
   "source": [
    "# addition\n",
    "torch.tensor([1, 2, 3]) + 10"
   ]
  },
  {
   "cell_type": "code",
   "execution_count": 77,
   "id": "f801365a",
   "metadata": {},
   "outputs": [
    {
     "data": {
      "text/plain": [
       "tensor([-9, -8, -7])"
      ]
     },
     "execution_count": 77,
     "metadata": {},
     "output_type": "execute_result"
    }
   ],
   "source": [
    "# subtraction\n",
    "torch.tensor([1, 2, 3]) - 10"
   ]
  },
  {
   "cell_type": "code",
   "execution_count": 80,
   "id": "2a6694b6",
   "metadata": {},
   "outputs": [
    {
     "data": {
      "text/plain": [
       "tensor([10, 20, 30])"
      ]
     },
     "execution_count": 80,
     "metadata": {},
     "output_type": "execute_result"
    }
   ],
   "source": [
    "# multiplication\n",
    "torch.tensor([1, 2, 3]) * 10"
   ]
  },
  {
   "cell_type": "code",
   "execution_count": 79,
   "id": "a239c421",
   "metadata": {},
   "outputs": [
    {
     "data": {
      "text/plain": [
       "tensor([0.1000, 0.2000, 0.3000])"
      ]
     },
     "execution_count": 79,
     "metadata": {},
     "output_type": "execute_result"
    }
   ],
   "source": [
    "# division\n",
    "torch.tensor([1, 2, 3]) / 10"
   ]
  },
  {
   "cell_type": "markdown",
   "id": "f1df1ef5",
   "metadata": {},
   "source": [
    "## Matrix Multiplication"
   ]
  },
  {
   "cell_type": "code",
   "execution_count": 87,
   "id": "4691be4a",
   "metadata": {},
   "outputs": [
    {
     "data": {
      "text/plain": [
       "tensor([[ 5, 12],\n",
       "        [21, 32]])"
      ]
     },
     "execution_count": 87,
     "metadata": {},
     "output_type": "execute_result"
    }
   ],
   "source": [
    "mat1 = torch.tensor([[1, 2], [3, 4]])\n",
    "mat2 = torch.tensor([[5, 6], [7, 8]])\n",
    "# Element Wise\n",
    "mat1 * mat2"
   ]
  },
  {
   "cell_type": "code",
   "execution_count": 88,
   "id": "dbb91d56",
   "metadata": {},
   "outputs": [
    {
     "data": {
      "text/plain": [
       "tensor([[19, 22],\n",
       "        [43, 50]])"
      ]
     },
     "execution_count": 88,
     "metadata": {},
     "output_type": "execute_result"
    }
   ],
   "source": [
    "# Matrix Multiplication\n",
    "torch.matmul(mat1, mat2)"
   ]
  },
  {
   "cell_type": "markdown",
   "id": "a9471297",
   "metadata": {},
   "source": [
    "## Aggregates\n"
   ]
  },
  {
   "cell_type": "code",
   "execution_count": 102,
   "id": "d85fe6cf",
   "metadata": {},
   "outputs": [
    {
     "data": {
      "text/plain": [
       "tensor(0.5792)"
      ]
     },
     "execution_count": 102,
     "metadata": {},
     "output_type": "execute_result"
    }
   ],
   "source": [
    "torch.rand(10).max()\n",
    "torch.rand(10).std()\n",
    "torch.rand(10).mean()\n",
    "torch.rand(10).median()"
   ]
  },
  {
   "cell_type": "code",
   "execution_count": 107,
   "id": "9c471b3f",
   "metadata": {},
   "outputs": [
    {
     "data": {
      "text/plain": [
       "tensor(9)"
      ]
     },
     "execution_count": 107,
     "metadata": {},
     "output_type": "execute_result"
    }
   ],
   "source": [
    "torch.rand(10).argmax()\n",
    "# returns the index"
   ]
  },
  {
   "cell_type": "code",
   "execution_count": 104,
   "id": "075865b0",
   "metadata": {},
   "outputs": [
    {
     "data": {
      "text/plain": [
       "tensor(9)"
      ]
     },
     "execution_count": 104,
     "metadata": {},
     "output_type": "execute_result"
    }
   ],
   "source": [
    "torch.rand(10).argmin()"
   ]
  },
  {
   "cell_type": "markdown",
   "id": "2d7e313a",
   "metadata": {},
   "source": [
    "For later `->` softmax activation function"
   ]
  },
  {
   "cell_type": "markdown",
   "id": "a3827951",
   "metadata": {},
   "source": [
    "### Reshaping Stacking Squeezing and Unsqueezing Tensors\n",
    "* Reshaping - change shape of a tensor \n",
    "* View - Return a view of an input tensor of certain shape but keep the same memory as the original tensor\n",
    "* Stacking - combine multiple tensors on top (vstack) or side by side (hstack)\n",
    "* Squeeze - removes all `1` dimensions form a tensor\n",
    "* Unsqueeze - add a `1` dimension to a target tensor"
   ]
  },
  {
   "cell_type": "code",
   "execution_count": 111,
   "id": "a4d33d44",
   "metadata": {},
   "outputs": [],
   "source": [
    "t1 = torch.arange(1., 10.)"
   ]
  },
  {
   "cell_type": "code",
   "execution_count": 116,
   "id": "c878effe",
   "metadata": {},
   "outputs": [],
   "source": [
    "# reshpe to add extra dimension\n",
    "t1_reshape = t1.reshape(1, 9)"
   ]
  },
  {
   "cell_type": "code",
   "execution_count": 113,
   "id": "8302b7a1",
   "metadata": {},
   "outputs": [
    {
     "data": {
      "text/plain": [
       "tensor([[1., 2., 3., 4., 5., 6., 7., 8., 9.]])"
      ]
     },
     "execution_count": 113,
     "metadata": {},
     "output_type": "execute_result"
    }
   ],
   "source": [
    "t1_reshape"
   ]
  },
  {
   "cell_type": "code",
   "execution_count": 117,
   "id": "45fcba9e",
   "metadata": {},
   "outputs": [
    {
     "data": {
      "text/plain": [
       "torch.Size([9])"
      ]
     },
     "execution_count": 117,
     "metadata": {},
     "output_type": "execute_result"
    }
   ],
   "source": [
    "t1.shape"
   ]
  },
  {
   "cell_type": "code",
   "execution_count": 118,
   "id": "149ab637",
   "metadata": {},
   "outputs": [
    {
     "data": {
      "text/plain": [
       "torch.Size([1, 9])"
      ]
     },
     "execution_count": 118,
     "metadata": {},
     "output_type": "execute_result"
    }
   ],
   "source": [
    "t1_reshape.shape"
   ]
  },
  {
   "cell_type": "code",
   "execution_count": 119,
   "id": "e29a3340",
   "metadata": {
    "scrolled": true
   },
   "outputs": [
    {
     "data": {
      "text/plain": [
       "tensor([[1., 2., 3., 4., 5., 6., 7., 8., 9.]])"
      ]
     },
     "execution_count": 119,
     "metadata": {},
     "output_type": "execute_result"
    }
   ],
   "source": [
    "t1_reshape"
   ]
  },
  {
   "cell_type": "code",
   "execution_count": 124,
   "id": "8a1f3c4a",
   "metadata": {},
   "outputs": [
    {
     "data": {
      "text/plain": [
       "tensor([8., 9.])"
      ]
     },
     "execution_count": 124,
     "metadata": {},
     "output_type": "execute_result"
    }
   ],
   "source": [
    "t1[-2:]"
   ]
  },
  {
   "cell_type": "code",
   "execution_count": 136,
   "id": "ce7a4dad",
   "metadata": {},
   "outputs": [],
   "source": [
    "t2 = torch.arange(11., 20)"
   ]
  },
  {
   "cell_type": "code",
   "execution_count": 140,
   "id": "8e803b28",
   "metadata": {},
   "outputs": [
    {
     "data": {
      "text/plain": [
       "tensor([[ 1.,  2.,  3.,  4.,  5.,  6.,  7.,  8.,  9.],\n",
       "        [11., 12., 13., 14., 15., 16., 17., 18., 19.]])"
      ]
     },
     "execution_count": 140,
     "metadata": {},
     "output_type": "execute_result"
    }
   ],
   "source": [
    "stack_1 = torch.stack((t1, t2))\n",
    "stack_1"
   ]
  },
  {
   "cell_type": "code",
   "execution_count": 148,
   "id": "ae92e6d5",
   "metadata": {},
   "outputs": [
    {
     "data": {
      "text/plain": [
       "tensor([[ 1.,  2.,  3.,  4.,  5.,  6.,  7.,  8.,  9.],\n",
       "        [11., 12., 13., 14., 15., 16., 17., 18., 19.]])"
      ]
     },
     "execution_count": 148,
     "metadata": {},
     "output_type": "execute_result"
    }
   ],
   "source": [
    "torch.squeeze(stack_1, dim=0)"
   ]
  },
  {
   "cell_type": "code",
   "execution_count": 153,
   "id": "2b14778d",
   "metadata": {},
   "outputs": [
    {
     "data": {
      "text/plain": [
       "torch.Size([2, 9])"
      ]
     },
     "execution_count": 153,
     "metadata": {},
     "output_type": "execute_result"
    }
   ],
   "source": [
    "stack_1.squeeze().shape"
   ]
  },
  {
   "cell_type": "code",
   "execution_count": 163,
   "id": "01959045",
   "metadata": {},
   "outputs": [
    {
     "data": {
      "text/plain": [
       "tensor([[ 1.,  2.,  3.,  4.,  5.,  6.,  7.,  8.,  9.],\n",
       "        [11., 12., 13., 14., 15., 16., 17., 18., 19.]])"
      ]
     },
     "execution_count": 163,
     "metadata": {},
     "output_type": "execute_result"
    }
   ],
   "source": [
    "stack_1.squeeze()"
   ]
  },
  {
   "cell_type": "code",
   "execution_count": 171,
   "id": "d0a7f15e",
   "metadata": {},
   "outputs": [
    {
     "data": {
      "text/plain": [
       "tensor([[[ 1.],\n",
       "         [ 2.],\n",
       "         [ 3.],\n",
       "         [ 4.],\n",
       "         [ 5.],\n",
       "         [ 6.],\n",
       "         [ 7.],\n",
       "         [ 8.],\n",
       "         [ 9.]],\n",
       "\n",
       "        [[11.],\n",
       "         [12.],\n",
       "         [13.],\n",
       "         [14.],\n",
       "         [15.],\n",
       "         [16.],\n",
       "         [17.],\n",
       "         [18.],\n",
       "         [19.]]])"
      ]
     },
     "execution_count": 171,
     "metadata": {},
     "output_type": "execute_result"
    }
   ],
   "source": [
    "stack_1.unsqueeze(dim=2)"
   ]
  },
  {
   "cell_type": "markdown",
   "id": "04fb02e1",
   "metadata": {},
   "source": [
    "## Numpy to PyTorch"
   ]
  },
  {
   "cell_type": "code",
   "execution_count": 177,
   "id": "e16e71d4",
   "metadata": {},
   "outputs": [
    {
     "data": {
      "text/plain": [
       "tensor([1, 2, 3, 4, 5, 6, 7, 8, 9])"
      ]
     },
     "execution_count": 177,
     "metadata": {},
     "output_type": "execute_result"
    }
   ],
   "source": [
    "import numpy as np\n",
    "array = np.arange(1, 10)\n",
    "# numpy array to pytorch tensor\n",
    "tensor = torch.from_numpy(array)\n",
    "tensor"
   ]
  },
  {
   "cell_type": "code",
   "execution_count": 179,
   "id": "ad2143f1",
   "metadata": {},
   "outputs": [
    {
     "data": {
      "text/plain": [
       "array([1, 2, 3, 4, 5, 6, 7, 8, 9])"
      ]
     },
     "execution_count": 179,
     "metadata": {},
     "output_type": "execute_result"
    }
   ],
   "source": [
    "# pytorch tensor to numpy array\n",
    "tensor.numpy()"
   ]
  },
  {
   "cell_type": "markdown",
   "id": "835cc47a",
   "metadata": {},
   "source": [
    "## Reproducibility"
   ]
  },
  {
   "cell_type": "code",
   "execution_count": 181,
   "id": "11ad374a",
   "metadata": {},
   "outputs": [
    {
     "name": "stdout",
     "output_type": "stream",
     "text": [
      "tensor([[0.0876, 0.1455, 0.6116, 0.7677],\n",
      "        [0.5227, 0.1294, 0.8119, 0.4248],\n",
      "        [0.1159, 0.5870, 0.2734, 0.7123]])\n",
      "tensor([[0.8718, 0.6414, 0.7280, 0.9966],\n",
      "        [0.1384, 0.7539, 0.3606, 0.8381],\n",
      "        [0.8835, 0.6440, 0.6961, 0.2680]])\n"
     ]
    }
   ],
   "source": [
    "seed = 123\n",
    "rand_a = torch.rand(3, 4)\n",
    "rand_b = torch.rand(3, 4)\n",
    "print(rand_a)\n",
    "print(rand_b)"
   ]
  },
  {
   "cell_type": "code",
   "execution_count": 182,
   "id": "46b74d3d",
   "metadata": {},
   "outputs": [
    {
     "data": {
      "text/plain": [
       "tensor([[False, False, False, False],\n",
       "        [False, False, False, False],\n",
       "        [False, False, False, False]])"
      ]
     },
     "execution_count": 182,
     "metadata": {},
     "output_type": "execute_result"
    }
   ],
   "source": [
    "rand_a == rand_b"
   ]
  },
  {
   "cell_type": "code",
   "execution_count": 190,
   "id": "fa3275e0",
   "metadata": {},
   "outputs": [
    {
     "data": {
      "text/plain": [
       "tensor([[0.2961, 0.5166, 0.2517, 0.6886],\n",
       "        [0.0740, 0.8665, 0.1366, 0.1025],\n",
       "        [0.1841, 0.7264, 0.3153, 0.6871]])"
      ]
     },
     "execution_count": 190,
     "metadata": {},
     "output_type": "execute_result"
    }
   ],
   "source": [
    "# setting random seed only works for one block of code\n",
    "torch.manual_seed(seed)\n",
    "torch.rand(3, 4)"
   ]
  },
  {
   "cell_type": "code",
   "execution_count": 192,
   "id": "4be9e07f",
   "metadata": {},
   "outputs": [
    {
     "data": {
      "text/plain": [
       "tensor([[0.2961, 0.5166, 0.2517, 0.6886],\n",
       "        [0.0740, 0.8665, 0.1366, 0.1025],\n",
       "        [0.1841, 0.7264, 0.3153, 0.6871]])"
      ]
     },
     "execution_count": 192,
     "metadata": {},
     "output_type": "execute_result"
    }
   ],
   "source": [
    "# setting random seed only works for one block of code\n",
    "torch.manual_seed(seed)\n",
    "torch.rand(3, 4)"
   ]
  },
  {
   "cell_type": "markdown",
   "id": "c2f0764e",
   "metadata": {},
   "source": [
    "## Accessing GPU"
   ]
  },
  {
   "cell_type": "code",
   "execution_count": 202,
   "id": "d37bf26f",
   "metadata": {},
   "outputs": [
    {
     "data": {
      "text/plain": [
       "False"
      ]
     },
     "execution_count": 202,
     "metadata": {},
     "output_type": "execute_result"
    }
   ],
   "source": [
    "# Running locally so no GPU available\n",
    "torch.cuda.is_available()"
   ]
  },
  {
   "cell_type": "code",
   "execution_count": 195,
   "id": "6447504c",
   "metadata": {},
   "outputs": [
    {
     "data": {
      "text/plain": [
       "'cpu'"
      ]
     },
     "execution_count": 195,
     "metadata": {},
     "output_type": "execute_result"
    }
   ],
   "source": [
    "device = \"cuda\" if torch.cuda.is_available() else \"cpu\"\n",
    "device"
   ]
  },
  {
   "cell_type": "code",
   "execution_count": 199,
   "id": "d8b7a2f3",
   "metadata": {},
   "outputs": [],
   "source": [
    "tensor = torch.rand(10).to(device)"
   ]
  },
  {
   "cell_type": "code",
   "execution_count": 201,
   "id": "aaadac7f",
   "metadata": {},
   "outputs": [
    {
     "data": {
      "text/plain": [
       "device(type='cpu')"
      ]
     },
     "execution_count": 201,
     "metadata": {},
     "output_type": "execute_result"
    }
   ],
   "source": [
    "tensor.device"
   ]
  },
  {
   "cell_type": "code",
   "execution_count": 207,
   "id": "57714319",
   "metadata": {},
   "outputs": [
    {
     "data": {
      "text/plain": [
       "array([0.7178835 , 0.7058374 , 0.91564953, 0.43398023, 0.07715076,\n",
       "       0.35652554, 0.14786267, 0.53305334, 0.40664625, 0.23180753],\n",
       "      dtype=float32)"
      ]
     },
     "execution_count": 207,
     "metadata": {},
     "output_type": "execute_result"
    }
   ],
   "source": [
    "# numpy array can't exist on gpu\n",
    "# back to cpu\n",
    "np_array = tensor.cpu().numpy()\n",
    "np_array"
   ]
  }
 ],
 "metadata": {
  "kernelspec": {
   "display_name": "Python 3",
   "language": "python",
   "name": "python3"
  },
  "language_info": {
   "codemirror_mode": {
    "name": "ipython",
    "version": 3
   },
   "file_extension": ".py",
   "mimetype": "text/x-python",
   "name": "python",
   "nbconvert_exporter": "python",
   "pygments_lexer": "ipython3",
   "version": "3.8.8"
  }
 },
 "nbformat": 4,
 "nbformat_minor": 5
}
